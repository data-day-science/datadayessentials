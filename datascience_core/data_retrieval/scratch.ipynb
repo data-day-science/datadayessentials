{
 "cells": [
  {
   "cell_type": "code",
   "execution_count": 1,
   "metadata": {},
   "outputs": [],
   "source": [
    "project = \"datascience_247money_scorecard\""
   ]
  },
  {
   "cell_type": "code",
   "execution_count": 2,
   "metadata": {},
   "outputs": [
    {
     "name": "stderr",
     "output_type": "stream",
     "text": [
      "Class SystemCreatedStorageAccount: This is an experimental class, and may change at any time. Please see https://aka.ms/azuremlexperimental for more information.\n",
      "Class SystemCreatedAcrAccount: This is an experimental class, and may change at any time. Please see https://aka.ms/azuremlexperimental for more information.\n"
     ]
    }
   ],
   "source": [
    "import pandas as pd\n",
    "import numpy as np\n",
    "import os\n",
    "\n",
    "\n",
    "from azure.ai.ml.entities import Data\n",
    "from azure.ai.ml.constants import AssetTypes\n",
    "from azure.ai.ml import MLClient\n",
    "from datascience_core.authentications import DataLakeAuthentication, DWHAuthentication, AzureAuthenticationSingleton\n",
    "from azure.core.credentials import TokenCredential, AzureSasCredential, AccessToken\n",
    "from azure.identity import DefaultAzureCredential, InteractiveBrowserCredential\n",
    "\n",
    "\n",
    "from azure.storage.filedatalake import DataLakeServiceClient\n",
    "from azure.storage.blob import StorageStreamDownloader\n",
    "from datascience_core.data_retrieval._save_data import BlobLocation\n",
    "from datascience_core.data_retrieval import DataLakeCSVLoader\n",
    "from datascience_core import cfg"
   ]
  },
  {
   "cell_type": "code",
   "execution_count": 3,
   "metadata": {},
   "outputs": [
    {
     "name": "stdout",
     "output_type": "stream",
     "text": [
      "Creating authenticator\n"
     ]
    }
   ],
   "source": [
    "credentials = DWHAuthentication().get_credentials()\n",
    "credentials=DataLakeAuthentication().get_credentials()"
   ]
  },
  {
   "attachments": {},
   "cell_type": "markdown",
   "metadata": {},
   "source": [
    "## Connect to ML Studio"
   ]
  },
  {
   "cell_type": "code",
   "execution_count": 4,
   "metadata": {},
   "outputs": [
    {
     "name": "stderr",
     "output_type": "stream",
     "text": [
      "Class RegistryOperations: This is an experimental class, and may change at any time. Please see https://aka.ms/azuremlexperimental for more information.\n"
     ]
    }
   ],
   "source": [
    "ml_client = MLClient(\n",
    "    credential=credentials, \n",
    "    subscription_id=\"6cbe45a0-6565-4c4a-b1a9-0929f276bbcd\",\n",
    "    resource_group_name='rg-data-science-dev',\n",
    "    workspace_name='mlw-ml-dev')"
   ]
  },
  {
   "cell_type": "code",
   "execution_count": 13,
   "metadata": {},
   "outputs": [
    {
     "data": {
      "text/plain": [
       "['live_vehicle_m0_Sep.csv',\n",
       " 'combined_m0_2months.csv',\n",
       " 'reduced_catalogue.csv',\n",
       " 'click_data.csv',\n",
       " 'catalogue.csv',\n",
       " 'catalogue',\n",
       " 'click_data',\n",
       " 'reduced_catalogue',\n",
       " 'THIS_IS_TEST_DATA',\n",
       " 'scorecard_cra_dataset',\n",
       " 'test']"
      ]
     },
     "execution_count": 13,
     "metadata": {},
     "output_type": "execute_result"
    }
   ],
   "source": [
    "assets = []\n",
    "asset_list = ml_client.data.list()#(name='test',label='latest')\n",
    "[assets.append(x.name) for x in asset_list]\n",
    "assets"
   ]
  },
  {
   "cell_type": "code",
   "execution_count": 3,
   "metadata": {},
   "outputs": [
    {
     "data": {
      "text/plain": [
       "'71dd5e07-989a-4c0f-94a4-b05aacd5892f'"
      ]
     },
     "execution_count": 3,
     "metadata": {},
     "output_type": "execute_result"
    }
   ],
   "source": [
    "import uuid\n",
    "\n",
    "file_uuid = uuid.uuid4()\n",
    "\n",
    "str(file_uuid)"
   ]
  },
  {
   "attachments": {},
   "cell_type": "markdown",
   "metadata": {},
   "source": [
    "## Register a dataset"
   ]
  },
  {
   "cell_type": "code",
   "execution_count": 12,
   "metadata": {},
   "outputs": [
    {
     "data": {
      "text/plain": [
       "Data({'skip_validation': False, 'mltable_schema_url': None, 'referenced_uris': None, 'type': 'uri_file', 'is_anonymous': False, 'auto_increment_version': False, 'name': 'scorecard_cra_dataset', 'description': '247money scorecard development dataset', 'tags': {}, 'properties': {}, 'id': '/subscriptions/6cbe45a0-6565-4c4a-b1a9-0929f276bbcd/resourceGroups/rg-data-science-dev/providers/Microsoft.MachineLearningServices/workspaces/mlw-ml-dev/data/scorecard_cra_dataset/versions/2', 'Resource__source_path': None, 'base_path': 'c:\\\\Users\\\\chris.pickford\\\\OneDrive - CarFinance 247 Ltd\\\\Documents\\\\Coding\\\\Python\\\\Projects\\\\datascience_core\\\\datascience_core\\\\jupytertools', 'creation_context': <azure.ai.ml.entities._system_data.SystemData object at 0x0000023D5B8BB7F0>, 'serialize': <msrest.serialization.Serializer object at 0x0000023D5CBBFB80>, 'version': '2', 'latest_version': None, 'path': 'abfss://projects@ds247dldev.dfs.core.windows.net/datascience_247money_scorecard/Datasets/scorecard_cra_dataset/scorecard_cra_dataset.csv', 'datastore': None})"
      ]
     },
     "execution_count": 12,
     "metadata": {},
     "output_type": "execute_result"
    }
   ],
   "source": [
    "scorecard_dataset_path= \"abfss://projects@ds247dldev.dfs.core.windows.net/datascience_247money_scorecard/Datasets/scorecard_cra_dataset/scorecard_cra_dataset.csv\"\n",
    "\n",
    "my_data = Data(\n",
    "    path=scorecard_dataset_path,\n",
    "    type=AssetTypes.URI_FILE,\n",
    "    description=\"247money scorecard development dataset\",\n",
    "    name=\"scorecard_cra_dataset\",\n",
    "    version=\"2\"\n",
    ")\n",
    "\n",
    "ml_client.data.create_or_update(my_data)"
   ]
  },
  {
   "attachments": {},
   "cell_type": "markdown",
   "metadata": {},
   "source": [
    "## List datasets in the datalake"
   ]
  },
  {
   "cell_type": "code",
   "execution_count": 5,
   "metadata": {},
   "outputs": [
    {
     "name": "stdout",
     "output_type": "stream",
     "text": [
      "Creating authenticator\n"
     ]
    }
   ],
   "source": [
    "\n",
    "project = 'datascience_247money_scorecard'\n",
    "authentication = DataLakeAuthentication()\n",
    "credential = authentication.get_azure_credentials()\n",
    "data_lake_name = cfg[\"storage\"][\"data_lake\"]\n",
    "account_url = f\"https://{data_lake_name}.dfs.core.windows.net/\"\n",
    "datalake_service = DataLakeServiceClient(\n",
    "    account_url=account_url, credential=credential\n",
    ")\n",
    "blob = BlobLocation(\"ds247dldev\", \"projects\", project+\"/Datasets/\", \"\")\n",
    "\n",
    "\n"
   ]
  },
  {
   "cell_type": "code",
   "execution_count": 6,
   "metadata": {},
   "outputs": [],
   "source": [
    "file_client = datalake_service.get_file_client(blob.get_container(), blob.get_filepath())"
   ]
  },
  {
   "cell_type": "code",
   "execution_count": 7,
   "metadata": {},
   "outputs": [],
   "source": [
    "file_system_client = datalake_service.get_file_system_client(file_system=blob.get_container())"
   ]
  },
  {
   "cell_type": "code",
   "execution_count": 8,
   "metadata": {},
   "outputs": [
    {
     "name": "stdout",
     "output_type": "stream",
     "text": [
      "projects\n"
     ]
    },
    {
     "data": {
      "text/plain": [
       "['scorecard_cra_dataset']"
      ]
     },
     "execution_count": 8,
     "metadata": {},
     "output_type": "execute_result"
    }
   ],
   "source": [
    "datasets_path = []\n",
    "print(blob.get_container())\n",
    "paths = file_system_client.get_paths(path=blob.get_filepath())\n",
    "for path in paths:\n",
    "    temp = os.sep.join(os.path.normpath(path.name).split(os.sep)[:-1])\n",
    "    datasets_path.append(os.sep.join(os.path.normpath(temp).split(os.sep)[-1:]))\n",
    "\n",
    "\n",
    "datasets_path = list(np.unique(datasets_path))\n",
    "datasets_path.remove('Datasets')\n",
    "datasets_path"
   ]
  },
  {
   "attachments": {},
   "cell_type": "markdown",
   "metadata": {},
   "source": [
    "## Pull registered dataset"
   ]
  },
  {
   "cell_type": "code",
   "execution_count": 120,
   "metadata": {},
   "outputs": [
    {
     "name": "stdout",
     "output_type": "stream",
     "text": [
      "abfss://projects@ds247dldev.dfs.core.windows.net/datascience_247money_scorecard/Datasets//scorecard_cra_dataset\n"
     ]
    }
   ],
   "source": [
    "\n",
    "\n",
    "asset_to_get= f\"abfss://{blob.get_container()}@ds247dldev.dfs.core.windows.net/{blob.get_filepath()}/{datasets[0]}\"\n",
    "print(asset_to_get)\n",
    "\n",
    "filedataset_asset = ml_client.data.get(name=datasets_path[0],label='latest')\n",
    "\n",
    "\n"
   ]
  },
  {
   "cell_type": "code",
   "execution_count": 122,
   "metadata": {},
   "outputs": [
    {
     "data": {
      "text/plain": [
       "'abfss://test@ds247dldev.dfs.core.windows.net/scorecard_dataset_build/outputs/AD4_cra_dev.csv'"
      ]
     },
     "execution_count": 122,
     "metadata": {},
     "output_type": "execute_result"
    }
   ],
   "source": [
    "filedataset_asset.path"
   ]
  },
  {
   "cell_type": "code",
   "execution_count": 130,
   "metadata": {},
   "outputs": [
    {
     "name": "stdout",
     "output_type": "stream",
     "text": [
      "ds247dldev\n",
      "test\n",
      "scorecard_dataset_build/outputs/\n",
      "AD4_cra_dev.csv\n"
     ]
    }
   ],
   "source": [
    "initial_split = scorecard_dataset_path.split(sep=\"/\")\n",
    "initial_split.remove(\"abfss:\")\n",
    "initial_split.remove(\"\")\n",
    "initial_split\n",
    "\n",
    "container = [x.split(\"@\")[0] for x in initial_split if \"@\" in x][0]\n",
    "account = [x.split(\"@\")[1].split(\".\")[0] for x in initial_split if \"@\" in x][0]\n",
    "path_name = [x for x in initial_split if \"@\" not in x]\n",
    "\n",
    "file_name = path_name[-1]\n",
    "path_name.remove(file_name)\n",
    "path = \"\"\n",
    "for component in path_name:\n",
    "    path+=component+\"/\"\n",
    "\n",
    "print(account)\n",
    "print(container)\n",
    "print(path)\n",
    "print(file_name)"
   ]
  },
  {
   "cell_type": "code",
   "execution_count": 127,
   "metadata": {},
   "outputs": [
    {
     "data": {
      "text/plain": [
       "'abfss://test@ds247dldev.dfs.core.windows.net/scorecard_dataset_build/outputs/AD4_cra_dev.csv'"
      ]
     },
     "execution_count": 127,
     "metadata": {},
     "output_type": "execute_result"
    }
   ],
   "source": [
    "scorecard_dataset_path"
   ]
  },
  {
   "cell_type": "code",
   "execution_count": 10,
   "metadata": {},
   "outputs": [],
   "source": [
    "auth = DataLakeAuthentication()\n",
    "csv_loader = DataLakeCSVLoader(authentication=auth)"
   ]
  },
  {
   "cell_type": "code",
   "execution_count": null,
   "metadata": {},
   "outputs": [],
   "source": []
  },
  {
   "attachments": {},
   "cell_type": "markdown",
   "metadata": {},
   "source": [
    "# Testing"
   ]
  },
  {
   "cell_type": "code",
   "execution_count": 7,
   "metadata": {},
   "outputs": [],
   "source": [
    "from datascience_core.data_retrieval import ProjectDatasetLoader,DatasetUriGenerator"
   ]
  },
  {
   "cell_type": "code",
   "execution_count": 13,
   "metadata": {},
   "outputs": [
    {
     "name": "stdout",
     "output_type": "stream",
     "text": [
      "pulling dataset scorecard_cra_dataset.csv\n"
     ]
    },
    {
     "name": "stderr",
     "output_type": "stream",
     "text": [
      "c:\\Users\\chris.pickford\\Anaconda3\\envs\\AD3_env\\lib\\site-packages\\datascience_core\\data_retrieval\\_load_data.py:69: DtypeWarning: Columns (6,7,9,10,11,12,13,18,19,20,21,22,23,24,26,27,28,30,31,32,33,34,36,37,38,39,40,41,42,43,44,45,46,47,48,49,50,51,52,53,54,55,56,57,58,59,60,61,62,63,65,66,69,70,71,74,75,76,77,78,79,80,82,84,85,86,87,88,92,93,94,95,97,98,99,100,101,102,103,104,105,111,113,114,116,118,119,120,122,123,125,128,130,132,133,136,137,139,140,141,142,144,145,146,147,148,149,150,151,152,153,154,155,156,157,158,159,160,161,162,163,164,165,166,167,170,173,174,175,176,177,178,180,182,183,184,185,186,187,188,189,190,191,192,193,194,195,196,198,200,201,202,203,204,205,206,207,208,209,210,211,212,213,214,215,218,219,220,221,223,224,225,226,228,229,230,231,232,235,236,237,238,239,240,241,243,244,245,246,247,248,249,250,251,252,253,254,255,256,257,258,259,260,261,262,263,264,271,275,278,279,280,282,284,286,287,288,290,291,294,295,298,300,301,302,303,304,305,306,307,308,309,310,311,312,313,314,315,316,317,318,319,320,321,322,323,324,325,328,329,330,331,334,336,337,338,340,341,342,343,344,345,346,347,348,349,350,351,352,353,354,355,357,358,359,360,361,362,363,365,368,370,372,373,374,375,376,379,381,382,383,384,385,388,389,390,393,394,395,396,397,398,399,400,401,402,403,404,405,406,407,408,409,410,412,413,414,415,416,417,420,423,424,425,428,429,430,432,433,434,435,436,440,441,444,445,446,447,448,449,452,453,454,455,456,458,459,460,461,462,463,464,465,466,467,468,469,470,471,472,473,474,475,478,479,480,481,482,483,484,487,488,489,490,491,493,494,495,496,501,502,506,507,508,511,512,513,514,517,518,519,520,521,522,523,524,525,526,527,528,529,530,531,532,533,534,535,536,537,538,539,540,541,542,543,544,545,546,547,548,549,550,551,555,556,558,559,562,563,564,565,566,568,569,570,573,574,577,578,579,580,582,583,584,586,587,588,589,590,591,592,593,594,595,596,597,598,599,600,601,602,603,604,605,607,608,609,610,611,612,613,614,616,617,618,619,620,621,622,623,624,625,626,627,628,629,630,631,632,633,634,635,636,638,639,640,641,642,643,644,645,646,647,648,651,652,654,656,658,661,662,663,664,665,666,667,668,669,670,672,675,676,677,678,679,681,682,683,684,686,687,688,690,691,692,693,694,695,696,697,698,699,700,701,702,703,704,705,706,707,708,709,710,711,712,713,714,715,718,719,720,721,723,724,725,731,732,733,734,741,742,744,746,747,749,750,753,754,755,756,757,758,759,760,761,762,763,765,766,767,770,771,772,774,775,776,777,778,779,780,782,783,784,785,786,790,791,792,793,794,795,796,797,798,799,800,801,802,803,804,805,806,807,808,809,810,811,812,813,814,815,816,817,818,821,822,823,824,825,826,827,828,829,830,831,832,833,834,835,836,837,838,842,843,846,848,849,850,851,852,853,854,855,856,857,858,859,860,861,862,863,864,865,866,867,869,871) have mixed types. Specify dtype option on import or set low_memory=False.\n",
      "  df = pd.read_csv(self.file_path, index_col=\"index\")\n"
     ]
    }
   ],
   "source": [
    "project = \"datascience_247money_scorecard\"\n",
    "data_loader = ProjectDatasetLoader(project)\n",
    "datasets=data_loader.load_dataset(version=2)"
   ]
  },
  {
   "cell_type": "code",
   "execution_count": 14,
   "metadata": {},
   "outputs": [
    {
     "data": {
      "text/plain": [
       "dict_keys(['scorecard_cra_dataset.csv'])"
      ]
     },
     "execution_count": 14,
     "metadata": {},
     "output_type": "execute_result"
    }
   ],
   "source": [
    "datasets.keys()"
   ]
  },
  {
   "cell_type": "code",
   "execution_count": 12,
   "metadata": {},
   "outputs": [
    {
     "data": {
      "text/html": [
       "<div>\n",
       "<style scoped>\n",
       "    .dataframe tbody tr th:only-of-type {\n",
       "        vertical-align: middle;\n",
       "    }\n",
       "\n",
       "    .dataframe tbody tr th {\n",
       "        vertical-align: top;\n",
       "    }\n",
       "\n",
       "    .dataframe thead th {\n",
       "        text-align: right;\n",
       "    }\n",
       "</style>\n",
       "<table border=\"1\" class=\"dataframe\">\n",
       "  <thead>\n",
       "    <tr style=\"text-align: right;\">\n",
       "      <th></th>\n",
       "      <th>Unnamed: 0</th>\n",
       "      <th>ApplicationId</th>\n",
       "      <th>_c0</th>\n",
       "      <th>MonthsFromEpoch</th>\n",
       "      <th>RawResponseId</th>\n",
       "      <th>BSB AF</th>\n",
       "      <th>BSB BE</th>\n",
       "      <th>BSB BIC</th>\n",
       "      <th>BSB BLC</th>\n",
       "      <th>BSB CF</th>\n",
       "      <th>...</th>\n",
       "      <th>App DistrictResidential</th>\n",
       "      <th>App EmploymentStatusName</th>\n",
       "      <th>App Occupation</th>\n",
       "      <th>App NetMonthlyIncome</th>\n",
       "      <th>App YearsAtEmploymentAddress</th>\n",
       "      <th>App MonthsAtEmploymentAddress</th>\n",
       "      <th>App PostcodeEmployment</th>\n",
       "      <th>App PostcodeDistrictEmployment</th>\n",
       "      <th>App DistrictEmployment</th>\n",
       "      <th>Target</th>\n",
       "    </tr>\n",
       "  </thead>\n",
       "  <tbody>\n",
       "    <tr>\n",
       "      <th>0</th>\n",
       "      <td>0</td>\n",
       "      <td>8553380</td>\n",
       "      <td>3</td>\n",
       "      <td>1428.0</td>\n",
       "      <td>491283.0</td>\n",
       "      <td>{ND}</td>\n",
       "      <td>{ND}</td>\n",
       "      <td>0.0</td>\n",
       "      <td>{ND}</td>\n",
       "      <td>{ND}</td>\n",
       "      <td>...</td>\n",
       "      <td>NaN</td>\n",
       "      <td>Employed Full Time</td>\n",
       "      <td>Customer service</td>\n",
       "      <td>1500.0</td>\n",
       "      <td>17.0</td>\n",
       "      <td>3.0</td>\n",
       "      <td>NE331SJ</td>\n",
       "      <td>NE33</td>\n",
       "      <td>NaN</td>\n",
       "      <td>0</td>\n",
       "    </tr>\n",
       "    <tr>\n",
       "      <th>1</th>\n",
       "      <td>1</td>\n",
       "      <td>8553158</td>\n",
       "      <td>7</td>\n",
       "      <td>1428.0</td>\n",
       "      <td>500085.0</td>\n",
       "      <td>{ND}</td>\n",
       "      <td>{ND}</td>\n",
       "      <td>0.0</td>\n",
       "      <td>{ND}</td>\n",
       "      <td>{ND}</td>\n",
       "      <td>...</td>\n",
       "      <td>NaN</td>\n",
       "      <td>Employed Full Time</td>\n",
       "      <td>Lift engineer</td>\n",
       "      <td>3000.0</td>\n",
       "      <td>12.0</td>\n",
       "      <td>0.0</td>\n",
       "      <td>CV34FJ</td>\n",
       "      <td>CV3</td>\n",
       "      <td>NaN</td>\n",
       "      <td>0</td>\n",
       "    </tr>\n",
       "    <tr>\n",
       "      <th>2</th>\n",
       "      <td>2</td>\n",
       "      <td>8554384</td>\n",
       "      <td>9</td>\n",
       "      <td>1428.0</td>\n",
       "      <td>503517.0</td>\n",
       "      <td>{ND}</td>\n",
       "      <td>{ND}</td>\n",
       "      <td>0.0</td>\n",
       "      <td>{ND}</td>\n",
       "      <td>{ND}</td>\n",
       "      <td>...</td>\n",
       "      <td>NaN</td>\n",
       "      <td>Employed Full Time</td>\n",
       "      <td>CEO</td>\n",
       "      <td>2996.0</td>\n",
       "      <td>12.0</td>\n",
       "      <td>8.0</td>\n",
       "      <td>EH44UT</td>\n",
       "      <td>EH4</td>\n",
       "      <td>NaN</td>\n",
       "      <td>0</td>\n",
       "    </tr>\n",
       "    <tr>\n",
       "      <th>3</th>\n",
       "      <td>3</td>\n",
       "      <td>8552996</td>\n",
       "      <td>12</td>\n",
       "      <td>1428.0</td>\n",
       "      <td>516659.0</td>\n",
       "      <td>{ND}</td>\n",
       "      <td>{ND}</td>\n",
       "      <td>0.0</td>\n",
       "      <td>{ND}</td>\n",
       "      <td>{ND}</td>\n",
       "      <td>...</td>\n",
       "      <td>NaN</td>\n",
       "      <td>Employed Full Time</td>\n",
       "      <td>Project coordinator</td>\n",
       "      <td>1500.0</td>\n",
       "      <td>2.0</td>\n",
       "      <td>0.0</td>\n",
       "      <td>M204BX</td>\n",
       "      <td>M20</td>\n",
       "      <td>NaN</td>\n",
       "      <td>0</td>\n",
       "    </tr>\n",
       "    <tr>\n",
       "      <th>4</th>\n",
       "      <td>4</td>\n",
       "      <td>8527682</td>\n",
       "      <td>23</td>\n",
       "      <td>1428.0</td>\n",
       "      <td>518195.0</td>\n",
       "      <td>{ND}</td>\n",
       "      <td>10789</td>\n",
       "      <td>0.0</td>\n",
       "      <td>{ND}</td>\n",
       "      <td>{ND}</td>\n",
       "      <td>...</td>\n",
       "      <td>NaN</td>\n",
       "      <td>Employed Full Time</td>\n",
       "      <td>Coach driver</td>\n",
       "      <td>1500.0</td>\n",
       "      <td>0.0</td>\n",
       "      <td>3.0</td>\n",
       "      <td>NG139HP</td>\n",
       "      <td>NG13</td>\n",
       "      <td>NaN</td>\n",
       "      <td>0</td>\n",
       "    </tr>\n",
       "  </tbody>\n",
       "</table>\n",
       "<p>5 rows × 1895 columns</p>\n",
       "</div>"
      ],
      "text/plain": [
       "   Unnamed: 0  ApplicationId  _c0  MonthsFromEpoch  RawResponseId BSB AF  \\\n",
       "0           0        8553380    3           1428.0       491283.0   {ND}   \n",
       "1           1        8553158    7           1428.0       500085.0   {ND}   \n",
       "2           2        8554384    9           1428.0       503517.0   {ND}   \n",
       "3           3        8552996   12           1428.0       516659.0   {ND}   \n",
       "4           4        8527682   23           1428.0       518195.0   {ND}   \n",
       "\n",
       "  BSB BE  BSB BIC BSB BLC BSB CF  ... App DistrictResidential  \\\n",
       "0   {ND}      0.0    {ND}   {ND}  ...                     NaN   \n",
       "1   {ND}      0.0    {ND}   {ND}  ...                     NaN   \n",
       "2   {ND}      0.0    {ND}   {ND}  ...                     NaN   \n",
       "3   {ND}      0.0    {ND}   {ND}  ...                     NaN   \n",
       "4  10789      0.0    {ND}   {ND}  ...                     NaN   \n",
       "\n",
       "  App EmploymentStatusName       App Occupation  App NetMonthlyIncome  \\\n",
       "0       Employed Full Time     Customer service                1500.0   \n",
       "1       Employed Full Time        Lift engineer                3000.0   \n",
       "2       Employed Full Time                  CEO                2996.0   \n",
       "3       Employed Full Time  Project coordinator                1500.0   \n",
       "4       Employed Full Time         Coach driver                1500.0   \n",
       "\n",
       "   App YearsAtEmploymentAddress  App MonthsAtEmploymentAddress  \\\n",
       "0                          17.0                            3.0   \n",
       "1                          12.0                            0.0   \n",
       "2                          12.0                            8.0   \n",
       "3                           2.0                            0.0   \n",
       "4                           0.0                            3.0   \n",
       "\n",
       "   App PostcodeEmployment App PostcodeDistrictEmployment  \\\n",
       "0                 NE331SJ                           NE33   \n",
       "1                  CV34FJ                            CV3   \n",
       "2                  EH44UT                            EH4   \n",
       "3                  M204BX                            M20   \n",
       "4                 NG139HP                           NG13   \n",
       "\n",
       "  App DistrictEmployment Target  \n",
       "0                    NaN      0  \n",
       "1                    NaN      0  \n",
       "2                    NaN      0  \n",
       "3                    NaN      0  \n",
       "4                    NaN      0  \n",
       "\n",
       "[5 rows x 1895 columns]"
      ]
     },
     "execution_count": 12,
     "metadata": {},
     "output_type": "execute_result"
    }
   ],
   "source": [
    "df = datasets['AD4_cra_dev.csv']\n",
    "df.head(5)"
   ]
  },
  {
   "cell_type": "code",
   "execution_count": 25,
   "metadata": {},
   "outputs": [
    {
     "name": "stdout",
     "output_type": "stream",
     "text": [
      "['@account.dfs.core.windows.net', 'dir1', 'dir2', 'dir3', 'file.csv']\n"
     ]
    }
   ],
   "source": [
    "uri=\"abfss://@account.dfs.core.windows.net/dir1/dir2/dir3/file.csv\"\n",
    "initial_split = uri.split(sep=\"/\")\n",
    "initial_split.remove(\"abfss:\")\n",
    "initial_split.remove(\"\")\n",
    "print(initial_split)\n",
    "container = [x.split(\"@\")[0] for x in initial_split if \"@\" in x][0]\n",
    "account = [x.split(\"@\")[1].split(\".\")[0] for x in initial_split if \"@\" in x][0]"
   ]
  },
  {
   "cell_type": "code",
   "execution_count": 3,
   "metadata": {},
   "outputs": [
    {
     "data": {
      "text/plain": [
       "<iterator object azure.core.paging.ItemPaged at 0x29751810730>"
      ]
     },
     "execution_count": 3,
     "metadata": {},
     "output_type": "execute_result"
    }
   ],
   "source": [
    "data_loader.testing_paths\n"
   ]
  },
  {
   "cell_type": "code",
   "execution_count": 4,
   "metadata": {},
   "outputs": [
    {
     "name": "stdout",
     "output_type": "stream",
     "text": [
      "{'name': 'datascience_247money_scorecard/Datasets/scorecard_cra_dataset', 'owner': '$superuser', 'group': '$superuser', 'permissions': 'rwxr-x---', 'last_modified': datetime.datetime(2023, 1, 10, 15, 15, 47), 'is_directory': True, 'etag': '0x8DAF31D8D7849F2', 'content_length': 0, 'creation_time': datetime.datetime(2023, 1, 10, 15, 15, 47, 941835, tzinfo=datetime.timezone.utc), 'expiry_time': None, 'encryption_scope': None}\n",
      "{'name': 'datascience_247money_scorecard/Datasets/scorecard_cra_dataset/scorecard_cra_dataset.csv', 'owner': '$superuser', 'group': '$superuser', 'permissions': 'rw-r-----', 'last_modified': datetime.datetime(2023, 1, 11, 8, 57, 37), 'is_directory': False, 'etag': '0x8DAF3B1E316CBC5', 'content_length': 19308411, 'creation_time': datetime.datetime(2023, 1, 11, 8, 57, 37, 102945, tzinfo=datetime.timezone.utc), 'expiry_time': None, 'encryption_scope': None}\n"
     ]
    },
    {
     "data": {
      "text/plain": [
       "[]"
      ]
     },
     "execution_count": 4,
     "metadata": {},
     "output_type": "execute_result"
    }
   ],
   "source": [
    "EXAMPLE_PATHS=[]\n",
    "for path in data_loader.testing_paths:\n",
    "   print(path)\n",
    "\n",
    "EXAMPLE_PATHS"
   ]
  },
  {
   "cell_type": "code",
   "execution_count": 5,
   "metadata": {},
   "outputs": [],
   "source": [
    "import datetime\n",
    "EXAMPLE_DATA = [{'name': 'datascience_247money_scorecard/Datasets/scorecard_cra_dataset', 'owner': '$superuser', 'group': '$superuser', 'permissions': 'rwxr-x---', 'last_modified': datetime.datetime(2023, 1, 10, 15, 15, 47), 'is_directory': True, 'etag': '0x8DAF31D8D7849F2', 'content_length': 0, 'creation_time': datetime.datetime(2023, 1, 10, 15, 15, 47, 941835, tzinfo=datetime.timezone.utc), 'expiry_time': None, 'encryption_scope': None},\n",
    "{'name': 'datascience_247money_scorecard/Datasets/scorecard_cra_dataset/scorecard_cra_dataset.csv', 'owner': '$superuser', 'group': '$superuser', 'permissions': 'rw-r-----', 'last_modified': datetime.datetime(2023, 1, 11, 8, 57, 37), 'is_directory': False, 'etag': '0x8DAF3B1E316CBC5', 'content_length': 19308411, 'creation_time': datetime.datetime(2023, 1, 11, 8, 57, 37, 102945, tzinfo=datetime.timezone.utc), 'expiry_time': None, 'encryption_scope': None}]"
   ]
  },
  {
   "cell_type": "code",
   "execution_count": 6,
   "metadata": {},
   "outputs": [
    {
     "ename": "AttributeError",
     "evalue": "'dict' object has no attribute 'name'",
     "output_type": "error",
     "traceback": [
      "\u001b[1;31m---------------------------------------------------------------------------\u001b[0m",
      "\u001b[1;31mAttributeError\u001b[0m                            Traceback (most recent call last)",
      "\u001b[1;32mC:\\Users\\CHRIS~1.PIC\\AppData\\Local\\Temp/ipykernel_23488/2871461869.py\u001b[0m in \u001b[0;36m<module>\u001b[1;34m\u001b[0m\n\u001b[0;32m      1\u001b[0m \u001b[1;32mfor\u001b[0m \u001b[0mpath\u001b[0m \u001b[1;32min\u001b[0m \u001b[0mEXAMPLE_DATA\u001b[0m\u001b[1;33m:\u001b[0m\u001b[1;33m\u001b[0m\u001b[1;33m\u001b[0m\u001b[0m\n\u001b[1;32m----> 2\u001b[1;33m     \u001b[0mpath\u001b[0m\u001b[1;33m.\u001b[0m\u001b[0mname\u001b[0m\u001b[1;33m\u001b[0m\u001b[1;33m\u001b[0m\u001b[0m\n\u001b[0m",
      "\u001b[1;31mAttributeError\u001b[0m: 'dict' object has no attribute 'name'"
     ]
    }
   ],
   "source": [
    "for path in EXAMPLE_DATA:\n",
    "    path.name"
   ]
  },
  {
   "cell_type": "code",
   "execution_count": 6,
   "metadata": {},
   "outputs": [
    {
     "data": {
      "text/plain": [
       "Data({'skip_validation': False, 'mltable_schema_url': None, 'referenced_uris': None, 'type': 'uri_file', 'is_anonymous': False, 'auto_increment_version': False, 'name': 'file', 'description': '247money scorecard development dataset', 'tags': {}, 'properties': {}, 'id': None, 'Resource__source_path': None, 'base_path': 'c:\\\\Users\\\\chris.pickford\\\\OneDrive - CarFinance 247 Ltd\\\\Documents\\\\Coding\\\\Python\\\\Projects\\\\datascience_core\\\\datascience_core\\\\jupytertools', 'creation_context': None, 'serialize': <msrest.serialization.Serializer object at 0x0000020DEEC69AF0>, 'version': '2', 'latest_version': None, 'path': 'abfss://projects@ds247dldev.dfs.core.windows.net/datascience_247money_scorecard/Datasets/scorecard_cra_dataset', 'datastore': None})"
      ]
     },
     "execution_count": 6,
     "metadata": {},
     "output_type": "execute_result"
    }
   ],
   "source": [
    "scorecard_dataset_path=\"abfss://projects@ds247dldev.dfs.core.windows.net/datascience_247money_scorecard/Datasets/scorecard_cra_dataset\"\n",
    "EXAMPLE_DATA = Data(\n",
    "    path=scorecard_dataset_path,\n",
    "    type=AssetTypes.URI_FILE,\n",
    "    description=\"247money scorecard development dataset\",\n",
    "    name=\"file\",\n",
    "    version=\"2\"\n",
    ")\n",
    "\n",
    "EXAMPLE_DATA"
   ]
  },
  {
   "cell_type": "code",
   "execution_count": 7,
   "metadata": {},
   "outputs": [
    {
     "ename": "ValueError",
     "evalue": "list.remove(x): x not in list",
     "output_type": "error",
     "traceback": [
      "\u001b[1;31m---------------------------------------------------------------------------\u001b[0m",
      "\u001b[1;31mValueError\u001b[0m                                Traceback (most recent call last)",
      "\u001b[1;32mC:\\Users\\CHRIS~1.PIC\\AppData\\Local\\Temp/ipykernel_35968/2228312770.py\u001b[0m in \u001b[0;36m<module>\u001b[1;34m\u001b[0m\n\u001b[0;32m      8\u001b[0m \u001b[1;33m\u001b[0m\u001b[0m\n\u001b[0;32m      9\u001b[0m \u001b[0mproject_assets\u001b[0m \u001b[1;33m=\u001b[0m \u001b[0mlist\u001b[0m\u001b[1;33m(\u001b[0m\u001b[0mnp\u001b[0m\u001b[1;33m.\u001b[0m\u001b[0munique\u001b[0m\u001b[1;33m(\u001b[0m\u001b[0mproject_assets\u001b[0m\u001b[1;33m)\u001b[0m\u001b[1;33m)\u001b[0m\u001b[1;33m\u001b[0m\u001b[1;33m\u001b[0m\u001b[0m\n\u001b[1;32m---> 10\u001b[1;33m \u001b[0mproject_assets\u001b[0m\u001b[1;33m.\u001b[0m\u001b[0mremove\u001b[0m\u001b[1;33m(\u001b[0m\u001b[1;34m\"Datasets\"\u001b[0m\u001b[1;33m)\u001b[0m\u001b[1;33m\u001b[0m\u001b[1;33m\u001b[0m\u001b[0m\n\u001b[0m",
      "\u001b[1;31mValueError\u001b[0m: list.remove(x): x not in list"
     ]
    }
   ],
   "source": [
    "\n",
    "project_assets = []\n",
    "paths =[EXAMPLE_DATA]\n",
    "for path in paths:\n",
    "    temp = os.sep.join(os.path.normpath(path.name).split(os.sep)[:-1])\n",
    "    project_assets.append(\n",
    "        os.sep.join(os.path.normpath(temp).split(os.sep)[-1:])\n",
    "    )\n",
    "\n",
    "project_assets = list(np.unique(project_assets))\n",
    "project_assets.remove(\"Datasets\")"
   ]
  },
  {
   "cell_type": "code",
   "execution_count": 8,
   "metadata": {},
   "outputs": [
    {
     "data": {
      "text/plain": [
       "''"
      ]
     },
     "execution_count": 8,
     "metadata": {},
     "output_type": "execute_result"
    }
   ],
   "source": [
    "os.sep.join(os.path.normpath(path.name).split(os.sep)[:-1])"
   ]
  },
  {
   "cell_type": "code",
   "execution_count": null,
   "metadata": {},
   "outputs": [],
   "source": []
  },
  {
   "cell_type": "code",
   "execution_count": 19,
   "metadata": {},
   "outputs": [],
   "source": [
    "import pandas as pd\n",
    "from datascience_core.data_retrieval import TierMapper\n",
    "tier_boundaries = {\n",
    "    'Tier1': 0.19,\n",
    "    'Tier2': 0.26,\n",
    "    'Tier3': 0.32,\n",
    "    'Tier4': 0.43,\n",
    "    'Tier5': 0.48,\n",
    "    'Tier6': 0.52\n",
    "    }\n",
    "mapper = TierMapper(tier_boundaries,tier_boundaries)\n",
    "\n",
    "\n",
    "tier_boundaries = {\n",
    "    'Tier1': 0.19,\n",
    "    'Tier2': 0.26,\n",
    "    'Tier3': 0.32,\n",
    "    'Tier4': 0.43,\n",
    "    'Tier5': 0.48,\n",
    "    'Tier6': 0.52\n",
    "    }\n",
    "mapper = TierMapper(tier_boundaries,tier_boundaries)\n",
    "\n",
    "scores = {}\n",
    "AD_list = []\n",
    "unmapped_list=[]\n",
    "\n",
    "for i in range(101):\n",
    "    i /= 100\n",
    "    AD_list.append(i)\n",
    "    unmapped_list.append(mapper._unmap_score(AD_score= i,raw_score_boundaries_dict=tier_boundaries))\n",
    "\n",
    "scores['AD'] = AD_list\n",
    "scores['raw'] = unmapped_list\n",
    "\n",
    "scores = pd.DataFrame(scores)"
   ]
  },
  {
   "cell_type": "code",
   "execution_count": 21,
   "metadata": {},
   "outputs": [
    {
     "data": {
      "text/plain": [
       "0.6736"
      ]
     },
     "execution_count": 21,
     "metadata": {},
     "output_type": "execute_result"
    }
   ],
   "source": [
    "AD_score = 0.83\n",
    "mapper._unmap_score(AD_score= AD_score,raw_score_boundaries_dict=tier_boundaries)"
   ]
  },
  {
   "cell_type": "code",
   "execution_count": 22,
   "metadata": {},
   "outputs": [],
   "source": [
    "scores = {}\n",
    "AD_list = []\n",
    "unmapped_list=[]\n",
    "\n",
    "for i in range(101):\n",
    "    i /= 100\n",
    "    AD_list.append(i)\n",
    "    unmapped_list.append(mapper._unmap_score(AD_score= i,raw_score_boundaries_dict=tier_boundaries))\n",
    "\n",
    "scores['AD'] = AD_list\n",
    "scores['raw'] = unmapped_list\n",
    "\n",
    "scores = pd.DataFrame(scores)"
   ]
  },
  {
   "cell_type": "code",
   "execution_count": 38,
   "metadata": {},
   "outputs": [],
   "source": [
    "#scores.set_index('AD',inplace=True)"
   ]
  },
  {
   "cell_type": "code",
   "execution_count": 23,
   "metadata": {},
   "outputs": [
    {
     "data": {
      "text/html": [
       "<div>\n",
       "<style scoped>\n",
       "    .dataframe tbody tr th:only-of-type {\n",
       "        vertical-align: middle;\n",
       "    }\n",
       "\n",
       "    .dataframe tbody tr th {\n",
       "        vertical-align: top;\n",
       "    }\n",
       "\n",
       "    .dataframe thead th {\n",
       "        text-align: right;\n",
       "    }\n",
       "</style>\n",
       "<table border=\"1\" class=\"dataframe\">\n",
       "  <thead>\n",
       "    <tr style=\"text-align: right;\">\n",
       "      <th></th>\n",
       "      <th>AD</th>\n",
       "      <th>raw</th>\n",
       "    </tr>\n",
       "  </thead>\n",
       "  <tbody>\n",
       "    <tr>\n",
       "      <th>1</th>\n",
       "      <td>0.01</td>\n",
       "      <td>0.007600</td>\n",
       "    </tr>\n",
       "    <tr>\n",
       "      <th>2</th>\n",
       "      <td>0.02</td>\n",
       "      <td>0.015200</td>\n",
       "    </tr>\n",
       "    <tr>\n",
       "      <th>3</th>\n",
       "      <td>0.03</td>\n",
       "      <td>0.022800</td>\n",
       "    </tr>\n",
       "    <tr>\n",
       "      <th>4</th>\n",
       "      <td>0.04</td>\n",
       "      <td>0.030400</td>\n",
       "    </tr>\n",
       "    <tr>\n",
       "      <th>5</th>\n",
       "      <td>0.05</td>\n",
       "      <td>0.038000</td>\n",
       "    </tr>\n",
       "    <tr>\n",
       "      <th>6</th>\n",
       "      <td>0.06</td>\n",
       "      <td>0.045600</td>\n",
       "    </tr>\n",
       "    <tr>\n",
       "      <th>7</th>\n",
       "      <td>0.07</td>\n",
       "      <td>0.053200</td>\n",
       "    </tr>\n",
       "    <tr>\n",
       "      <th>8</th>\n",
       "      <td>0.08</td>\n",
       "      <td>0.060800</td>\n",
       "    </tr>\n",
       "    <tr>\n",
       "      <th>9</th>\n",
       "      <td>0.09</td>\n",
       "      <td>0.068400</td>\n",
       "    </tr>\n",
       "    <tr>\n",
       "      <th>10</th>\n",
       "      <td>0.10</td>\n",
       "      <td>0.076000</td>\n",
       "    </tr>\n",
       "    <tr>\n",
       "      <th>11</th>\n",
       "      <td>0.11</td>\n",
       "      <td>0.083600</td>\n",
       "    </tr>\n",
       "    <tr>\n",
       "      <th>12</th>\n",
       "      <td>0.12</td>\n",
       "      <td>0.091200</td>\n",
       "    </tr>\n",
       "    <tr>\n",
       "      <th>13</th>\n",
       "      <td>0.13</td>\n",
       "      <td>0.098800</td>\n",
       "    </tr>\n",
       "    <tr>\n",
       "      <th>14</th>\n",
       "      <td>0.14</td>\n",
       "      <td>0.106400</td>\n",
       "    </tr>\n",
       "    <tr>\n",
       "      <th>15</th>\n",
       "      <td>0.15</td>\n",
       "      <td>0.114000</td>\n",
       "    </tr>\n",
       "    <tr>\n",
       "      <th>16</th>\n",
       "      <td>0.16</td>\n",
       "      <td>0.121600</td>\n",
       "    </tr>\n",
       "    <tr>\n",
       "      <th>17</th>\n",
       "      <td>0.17</td>\n",
       "      <td>0.129200</td>\n",
       "    </tr>\n",
       "    <tr>\n",
       "      <th>18</th>\n",
       "      <td>0.18</td>\n",
       "      <td>0.136800</td>\n",
       "    </tr>\n",
       "    <tr>\n",
       "      <th>19</th>\n",
       "      <td>0.19</td>\n",
       "      <td>0.144400</td>\n",
       "    </tr>\n",
       "    <tr>\n",
       "      <th>20</th>\n",
       "      <td>0.20</td>\n",
       "      <td>0.152000</td>\n",
       "    </tr>\n",
       "    <tr>\n",
       "      <th>21</th>\n",
       "      <td>0.21</td>\n",
       "      <td>0.159600</td>\n",
       "    </tr>\n",
       "    <tr>\n",
       "      <th>22</th>\n",
       "      <td>0.22</td>\n",
       "      <td>0.167200</td>\n",
       "    </tr>\n",
       "    <tr>\n",
       "      <th>23</th>\n",
       "      <td>0.23</td>\n",
       "      <td>0.174800</td>\n",
       "    </tr>\n",
       "    <tr>\n",
       "      <th>24</th>\n",
       "      <td>0.24</td>\n",
       "      <td>0.182400</td>\n",
       "    </tr>\n",
       "    <tr>\n",
       "      <th>25</th>\n",
       "      <td>0.25</td>\n",
       "      <td>0.190000</td>\n",
       "    </tr>\n",
       "    <tr>\n",
       "      <th>26</th>\n",
       "      <td>0.26</td>\n",
       "      <td>0.194667</td>\n",
       "    </tr>\n",
       "    <tr>\n",
       "      <th>27</th>\n",
       "      <td>0.27</td>\n",
       "      <td>0.199333</td>\n",
       "    </tr>\n",
       "    <tr>\n",
       "      <th>28</th>\n",
       "      <td>0.28</td>\n",
       "      <td>0.204000</td>\n",
       "    </tr>\n",
       "    <tr>\n",
       "      <th>29</th>\n",
       "      <td>0.29</td>\n",
       "      <td>0.208667</td>\n",
       "    </tr>\n",
       "    <tr>\n",
       "      <th>30</th>\n",
       "      <td>0.30</td>\n",
       "      <td>0.213333</td>\n",
       "    </tr>\n",
       "    <tr>\n",
       "      <th>31</th>\n",
       "      <td>0.31</td>\n",
       "      <td>0.218000</td>\n",
       "    </tr>\n",
       "    <tr>\n",
       "      <th>32</th>\n",
       "      <td>0.32</td>\n",
       "      <td>0.222667</td>\n",
       "    </tr>\n",
       "    <tr>\n",
       "      <th>33</th>\n",
       "      <td>0.33</td>\n",
       "      <td>0.227333</td>\n",
       "    </tr>\n",
       "    <tr>\n",
       "      <th>34</th>\n",
       "      <td>0.34</td>\n",
       "      <td>0.232000</td>\n",
       "    </tr>\n",
       "    <tr>\n",
       "      <th>35</th>\n",
       "      <td>0.35</td>\n",
       "      <td>0.236667</td>\n",
       "    </tr>\n",
       "    <tr>\n",
       "      <th>36</th>\n",
       "      <td>0.36</td>\n",
       "      <td>0.241333</td>\n",
       "    </tr>\n",
       "    <tr>\n",
       "      <th>37</th>\n",
       "      <td>0.37</td>\n",
       "      <td>0.246000</td>\n",
       "    </tr>\n",
       "    <tr>\n",
       "      <th>38</th>\n",
       "      <td>0.38</td>\n",
       "      <td>0.250667</td>\n",
       "    </tr>\n",
       "    <tr>\n",
       "      <th>39</th>\n",
       "      <td>0.39</td>\n",
       "      <td>0.255333</td>\n",
       "    </tr>\n",
       "    <tr>\n",
       "      <th>40</th>\n",
       "      <td>0.40</td>\n",
       "      <td>0.260000</td>\n",
       "    </tr>\n",
       "    <tr>\n",
       "      <th>41</th>\n",
       "      <td>0.41</td>\n",
       "      <td>0.266000</td>\n",
       "    </tr>\n",
       "    <tr>\n",
       "      <th>42</th>\n",
       "      <td>0.42</td>\n",
       "      <td>0.272000</td>\n",
       "    </tr>\n",
       "    <tr>\n",
       "      <th>43</th>\n",
       "      <td>0.43</td>\n",
       "      <td>0.278000</td>\n",
       "    </tr>\n",
       "    <tr>\n",
       "      <th>44</th>\n",
       "      <td>0.44</td>\n",
       "      <td>0.284000</td>\n",
       "    </tr>\n",
       "    <tr>\n",
       "      <th>45</th>\n",
       "      <td>0.45</td>\n",
       "      <td>0.290000</td>\n",
       "    </tr>\n",
       "    <tr>\n",
       "      <th>46</th>\n",
       "      <td>0.46</td>\n",
       "      <td>0.296000</td>\n",
       "    </tr>\n",
       "    <tr>\n",
       "      <th>47</th>\n",
       "      <td>0.47</td>\n",
       "      <td>0.302000</td>\n",
       "    </tr>\n",
       "    <tr>\n",
       "      <th>48</th>\n",
       "      <td>0.48</td>\n",
       "      <td>0.308000</td>\n",
       "    </tr>\n",
       "    <tr>\n",
       "      <th>49</th>\n",
       "      <td>0.49</td>\n",
       "      <td>0.314000</td>\n",
       "    </tr>\n",
       "  </tbody>\n",
       "</table>\n",
       "</div>"
      ],
      "text/plain": [
       "      AD       raw\n",
       "1   0.01  0.007600\n",
       "2   0.02  0.015200\n",
       "3   0.03  0.022800\n",
       "4   0.04  0.030400\n",
       "5   0.05  0.038000\n",
       "6   0.06  0.045600\n",
       "7   0.07  0.053200\n",
       "8   0.08  0.060800\n",
       "9   0.09  0.068400\n",
       "10  0.10  0.076000\n",
       "11  0.11  0.083600\n",
       "12  0.12  0.091200\n",
       "13  0.13  0.098800\n",
       "14  0.14  0.106400\n",
       "15  0.15  0.114000\n",
       "16  0.16  0.121600\n",
       "17  0.17  0.129200\n",
       "18  0.18  0.136800\n",
       "19  0.19  0.144400\n",
       "20  0.20  0.152000\n",
       "21  0.21  0.159600\n",
       "22  0.22  0.167200\n",
       "23  0.23  0.174800\n",
       "24  0.24  0.182400\n",
       "25  0.25  0.190000\n",
       "26  0.26  0.194667\n",
       "27  0.27  0.199333\n",
       "28  0.28  0.204000\n",
       "29  0.29  0.208667\n",
       "30  0.30  0.213333\n",
       "31  0.31  0.218000\n",
       "32  0.32  0.222667\n",
       "33  0.33  0.227333\n",
       "34  0.34  0.232000\n",
       "35  0.35  0.236667\n",
       "36  0.36  0.241333\n",
       "37  0.37  0.246000\n",
       "38  0.38  0.250667\n",
       "39  0.39  0.255333\n",
       "40  0.40  0.260000\n",
       "41  0.41  0.266000\n",
       "42  0.42  0.272000\n",
       "43  0.43  0.278000\n",
       "44  0.44  0.284000\n",
       "45  0.45  0.290000\n",
       "46  0.46  0.296000\n",
       "47  0.47  0.302000\n",
       "48  0.48  0.308000\n",
       "49  0.49  0.314000"
      ]
     },
     "execution_count": 23,
     "metadata": {},
     "output_type": "execute_result"
    }
   ],
   "source": [
    "scores.iloc[1:50]"
   ]
  },
  {
   "cell_type": "code",
   "execution_count": 7,
   "metadata": {},
   "outputs": [],
   "source": [
    "abf='abfss://projects@ds247dldev.dfs.core.windows.net/datascience_247money_scorecard/Datasets/scorecard_cra_dataset/scorecard_cra_dataset.csv'\n",
    "\n",
    "uri = 'https://ds247dldev.blob.core.windows.net/projects/test/Datasets/test/6f080ac3-abef-4e7a-88de-4ec6ebb6d569'"
   ]
  },
  {
   "cell_type": "code",
   "execution_count": 17,
   "metadata": {},
   "outputs": [
    {
     "name": "stdout",
     "output_type": "stream",
     "text": [
      "{'account': 'ds247dldev', 'container': 'projects', 'file_path': 'test/Datasets/test', 'file_name': '6f080ac3-abef-4e7a-88de-4ec6ebb6d569'}\n"
     ]
    }
   ],
   "source": [
    "initial_split = uri.split(sep=\"/\")\n",
    "initial_split.remove(\"https:\")\n",
    "initial_split.remove(\"\")\n",
    "\n",
    "account = [x.split(\".\")[0] for x in initial_split if \".\" in x][0]\n",
    "if len(account) == 0:\n",
    "    raise\n",
    "container = initial_split[1]\n",
    "path = [x for x in initial_split if account+\".blob.core.windows.net\" not in x]\n",
    "file_name = path[-1]\n",
    "path.remove(file_name)\n",
    "path.remove(container)\n",
    "# file_name = file_name.split(\".\")[0]\n",
    "file_path = \"\"\n",
    "for component in path:\n",
    "    file_path += component + \"/\"\n",
    "path_components = {\n",
    "    \"account\": account,\n",
    "    \"container\": container,\n",
    "    \"file_path\": file_path[:-1],\n",
    "    \"file_name\": file_name,\n",
    "}\n",
    "return path_components"
   ]
  },
  {
   "cell_type": "code",
   "execution_count": null,
   "metadata": {},
   "outputs": [],
   "source": [
    "initial_split = uri.split(sep=\"/\")\n",
    "initial_split.remove(\"https:\")\n",
    "initial_split.remove(\"\")\n",
    "initial_split\n",
    "\n",
    "container = [x.split(\"@\")[0] for x in initial_split if \"@\" in x][0]\n",
    "if len(container) == 0:\n",
    "    raise\n",
    "account = [x.split(\"@\")[1].split(\".\")[0] for x in initial_split if \"@\" in x][0]\n",
    "if len(account) == 0:\n",
    "    raise\n",
    "path = [x for x in initial_split if \"@\" not in x]\n",
    "\n",
    "file_name = path[-1]\n",
    "path.remove(file_name)\n",
    "# file_name = file_name.split(\".\")[0]\n",
    "file_path = \"\"\n",
    "for component in path:\n",
    "    file_path += component + \"/\"\n",
    "\n",
    "path_components = {\n",
    "    \"account\": account,\n",
    "    \"container\": container,\n",
    "    \"file_path\": file_path[:-1],\n",
    "    \"file_name\": file_name,\n",
    "}\n"
   ]
  },
  {
   "cell_type": "code",
   "execution_count": 6,
   "metadata": {},
   "outputs": [],
   "source": [
    "from datascience_core.data_retrieval import ProjectDatasetManager\n",
    "import pandas as pd"
   ]
  },
  {
   "cell_type": "code",
   "execution_count": null,
   "metadata": {},
   "outputs": [],
   "source": []
  },
  {
   "cell_type": "code",
   "execution_count": 2,
   "metadata": {},
   "outputs": [
    {
     "name": "stderr",
     "output_type": "stream",
     "text": [
      "Class RegistryOperations: This is an experimental class, and may change at any time. Please see https://aka.ms/azuremlexperimental for more information.\n"
     ]
    },
    {
     "name": "stdout",
     "output_type": "stream",
     "text": [
      "Creating authenticator\n"
     ]
    }
   ],
   "source": [
    "dataset_manager = ProjectDatasetManager(project='test')"
   ]
  },
  {
   "cell_type": "code",
   "execution_count": 7,
   "metadata": {},
   "outputs": [],
   "source": [
    "dataset1 = pd.DataFrame({'col1':[0,1,2,3,4,5],'col5':[0,1,2,3,4,5]})\n",
    "dataset2 = pd.DataFrame({'col1':[0,1,2,3,4,5],'col5':[0,1,2,3,4,5]})\n",
    "\n",
    "dataset_manager.register_dataset(registered_dataset_name=\"test2\",data=dataset1)\n",
    "dataset_manager.register_dataset(registered_dataset_name=\"test3\",data=dataset2)"
   ]
  },
  {
   "cell_type": "code",
   "execution_count": 10,
   "metadata": {},
   "outputs": [
    {
     "name": "stdout",
     "output_type": "stream",
     "text": [
      "pulling dataset test\n",
      "pulling dataset test2\n",
      "pulling dataset test3\n"
     ]
    }
   ],
   "source": [
    "data_dict = dataset_manager.load_dataset()"
   ]
  },
  {
   "cell_type": "code",
   "execution_count": 12,
   "metadata": {},
   "outputs": [
    {
     "data": {
      "text/html": [
       "<div>\n",
       "<style scoped>\n",
       "    .dataframe tbody tr th:only-of-type {\n",
       "        vertical-align: middle;\n",
       "    }\n",
       "\n",
       "    .dataframe tbody tr th {\n",
       "        vertical-align: top;\n",
       "    }\n",
       "\n",
       "    .dataframe thead th {\n",
       "        text-align: right;\n",
       "    }\n",
       "</style>\n",
       "<table border=\"1\" class=\"dataframe\">\n",
       "  <thead>\n",
       "    <tr style=\"text-align: right;\">\n",
       "      <th></th>\n",
       "      <th>col1</th>\n",
       "      <th>col2</th>\n",
       "    </tr>\n",
       "  </thead>\n",
       "  <tbody>\n",
       "    <tr>\n",
       "      <th>0</th>\n",
       "      <td>0</td>\n",
       "      <td>0</td>\n",
       "    </tr>\n",
       "    <tr>\n",
       "      <th>1</th>\n",
       "      <td>1</td>\n",
       "      <td>1</td>\n",
       "    </tr>\n",
       "    <tr>\n",
       "      <th>2</th>\n",
       "      <td>2</td>\n",
       "      <td>2</td>\n",
       "    </tr>\n",
       "    <tr>\n",
       "      <th>3</th>\n",
       "      <td>3</td>\n",
       "      <td>3</td>\n",
       "    </tr>\n",
       "    <tr>\n",
       "      <th>4</th>\n",
       "      <td>4</td>\n",
       "      <td>4</td>\n",
       "    </tr>\n",
       "    <tr>\n",
       "      <th>5</th>\n",
       "      <td>5</td>\n",
       "      <td>5</td>\n",
       "    </tr>\n",
       "  </tbody>\n",
       "</table>\n",
       "</div>"
      ],
      "text/plain": [
       "   col1  col2\n",
       "0     0     0\n",
       "1     1     1\n",
       "2     2     2\n",
       "3     3     3\n",
       "4     4     4\n",
       "5     5     5"
      ]
     },
     "execution_count": 12,
     "metadata": {},
     "output_type": "execute_result"
    }
   ],
   "source": [
    "data_dict['test']"
   ]
  },
  {
   "cell_type": "code",
   "execution_count": 13,
   "metadata": {},
   "outputs": [],
   "source": [
    "data = {\"col1\": [0, 1, 2, 3, 4, 5], \"col2\": [0, 1, 2, 3, 4, 5]}\n",
    "data = pd.DataFrame(data)"
   ]
  },
  {
   "cell_type": "code",
   "execution_count": 15,
   "metadata": {},
   "outputs": [],
   "source": [
    "pd.testing.assert_frame_equal(data_dict['test'],data)"
   ]
  },
  {
   "cell_type": "code",
   "execution_count": 16,
   "metadata": {},
   "outputs": [],
   "source": [
    "asset_paths = [{'test': 'https://ds247dldev.blob.core.windows.net/projects/test/Datasets/test/dfcd18fc-02c6-42da-b7ca-2f9276d7dcbf'}]"
   ]
  },
  {
   "cell_type": "code",
   "execution_count": 19,
   "metadata": {},
   "outputs": [
    {
     "data": {
      "text/plain": [
       "'test'"
      ]
     },
     "execution_count": 19,
     "metadata": {},
     "output_type": "execute_result"
    }
   ],
   "source": [
    "list(asset_paths[0].keys())[0]"
   ]
  },
  {
   "cell_type": "code",
   "execution_count": null,
   "metadata": {},
   "outputs": [],
   "source": []
  }
 ],
 "metadata": {
  "kernelspec": {
   "display_name": "AD3_env",
   "language": "python",
   "name": "python3"
  },
  "language_info": {
   "codemirror_mode": {
    "name": "ipython",
    "version": 3
   },
   "file_extension": ".py",
   "mimetype": "text/x-python",
   "name": "python",
   "nbconvert_exporter": "python",
   "pygments_lexer": "ipython3",
   "version": "3.8.5"
  },
  "orig_nbformat": 4,
  "vscode": {
   "interpreter": {
    "hash": "3a4612454e377a53619ecf8f971dbd4de52fab87c773e5987da30f0c6bf719d7"
   }
  }
 },
 "nbformat": 4,
 "nbformat_minor": 2
}
